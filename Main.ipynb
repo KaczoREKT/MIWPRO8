{
 "cells": [
  {
   "cell_type": "code",
   "execution_count": null,
   "id": "initial_id",
   "metadata": {
    "collapsed": true
   },
   "outputs": [],
   "source": []
  },
  {
   "cell_type": "code",
   "execution_count": null,
   "outputs": [],
   "source": [
    "import torch\n",
    "import torch.nn as nn\n",
    "import torch.nn.functional as F\n",
    "\n",
    "class Encoder(nn.Module):\n",
    "    def __init__(self, code_dim=32):\n",
    "        super().__init__()\n",
    "        self.conv1 = nn.Conv2d(3, 16, 4, stride=2, padding=1) # 60x60\n",
    "        self.conv2 = nn.Conv2d(16, 32, 4, stride=2, padding=1) # 30x30\n",
    "        self.conv3 = nn.Conv2d(32, 64, 4, stride=2, padding=1) # 15x15\n",
    "        self.fc = nn.Linear(64 * 15 * 15, code_dim)\n",
    "\n",
    "    def forward(self, x):\n",
    "        x = F.relu(self.conv1(x))\n",
    "        x = F.relu(self.conv2(x))\n",
    "        x = F.relu(self.conv3(x))\n",
    "        x = x.view(x.size(0), -1)\n",
    "        code = self.fc(x)\n",
    "        return code\n",
    "\n",
    "class Decoder(nn.Module):\n",
    "    def __init__(self, code_dim=32):\n",
    "        super().__init__()\n",
    "        self.fc = nn.Linear(code_dim, 64 * 15 * 15)\n",
    "        self.deconv1 = nn.ConvTranspose2d(64, 32, 4, stride=2, padding=1) # 30x30\n",
    "        self.deconv2 = nn.ConvTranspose2d(32, 16, 4, stride=2, padding=1) # 60x60\n",
    "        self.deconv3 = nn.ConvTranspose2d(16, 3, 4, stride=2, padding=1) # 120x120\n",
    "\n",
    "    def forward(self, code):\n",
    "        x = F.relu(self.fc(code))\n",
    "        x = x.view(-1, 64, 15, 15)\n",
    "        x = F.relu(self.deconv1(x))\n",
    "        x = F.relu(self.deconv2(x))\n",
    "        x = torch.sigmoid(self.deconv3(x))  # [0, 1] dla obrazów\n",
    "        return x\n",
    "\n",
    "class Autoencoder(nn.Module):\n",
    "    def __init__(self, code_dim=32):\n",
    "        super().__init__()\n",
    "        self.encoder = Encoder(code_dim)\n",
    "        self.decoder = Decoder(code_dim)\n",
    "\n",
    "    def forward(self, x):\n",
    "        code = self.encoder(x)\n",
    "        recon = self.decoder(code)\n",
    "        return recon"
   ],
   "metadata": {
    "collapsed": false
   },
   "id": "fdd6788dc3f74301"
  }
 ],
 "metadata": {
  "kernelspec": {
   "display_name": "Python 3",
   "language": "python",
   "name": "python3"
  },
  "language_info": {
   "codemirror_mode": {
    "name": "ipython",
    "version": 2
   },
   "file_extension": ".py",
   "mimetype": "text/x-python",
   "name": "python",
   "nbconvert_exporter": "python",
   "pygments_lexer": "ipython2",
   "version": "2.7.6"
  }
 },
 "nbformat": 4,
 "nbformat_minor": 5
}
